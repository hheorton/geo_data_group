{
 "cells": [
  {
   "cell_type": "code",
   "execution_count": 221,
   "id": "parliamentary-criticism",
   "metadata": {},
   "outputs": [
    {
     "data": {
      "text/plain": [
       "<module 'grid_set' from '/Users/h/Github/geo_data_group/grid_set.py'>"
      ]
     },
     "execution_count": 221,
     "metadata": {},
     "output_type": "execute_result"
    }
   ],
   "source": [
    "import numpy as np\n",
    "import datetime\n",
    "import matplotlib.pyplot as plt\n",
    "import shutil\n",
    "import os\n",
    "import copy\n",
    "from netCDF4 import Dataset\n",
    "# from numba import jit\n",
    "from scipy import stats\n",
    "from scipy import sparse\n",
    "from scipy.ndimage.filters import gaussian_filter\n",
    "# from mpl_toolkits.basemap import Basemap\n",
    "import cartopy.crs as ccrs\n",
    "import cartopy.feature as cfeature\n",
    "import shapely.vectorized\n",
    "proj_cart = ccrs.PlateCarree() \n",
    "import grid_set as gs\n",
    "from imp import reload\n",
    "reload(gs)"
   ]
  },
  {
   "cell_type": "code",
   "execution_count": 56,
   "id": "automotive-underwear",
   "metadata": {},
   "outputs": [],
   "source": [
    "m = 30\n",
    "n = 30\n",
    "test_in  = np.ones([m,n])\n",
    "\n",
    "varr = np.ones([m,n],dtype=int)\n",
    "varc = np.ones([m,n],dtype=int)\n",
    "mask = np.ones([m,n],dtype=bool)"
   ]
  },
  {
   "cell_type": "code",
   "execution_count": 28,
   "id": "middle-ceremony",
   "metadata": {},
   "outputs": [],
   "source": [
    "varr[10:20,12:20] = 4\n",
    "varc[10:20,10:18] = 3\n",
    "mask[12:16,13:17] = False"
   ]
  },
  {
   "cell_type": "code",
   "execution_count": 41,
   "id": "alone-mayor",
   "metadata": {},
   "outputs": [],
   "source": [
    "\n",
    "ii,jj = varc.shape\n",
    "ijl = []\n",
    "vvl = []\n",
    "ddl = []\n",
    "for i in range(ii):\n",
    "    for j in range(jj):\n",
    "        ## i,j are the target indicies\n",
    "        if mask[i,j] == False: break\n",
    "        ij = np.ravel_multi_index((i,j),(ii,jj))\n",
    "        ## i+-varr[i,j]\n",
    "        ## j+-varc[i,j]\n",
    "        ## are the target indice\n",
    "        ## place in the sparse matrix is np.ravel_multi_index((i,j))\n",
    "        vij = []\n",
    "        for vi in range(i-varr[i,j],i+varr[i,j]+1):\n",
    "            for vj in range(j-varc[i,j],j+varc[i,j]+1):\n",
    "#                 if (vi in range(ii)) and (vj in range(jj)):\n",
    "                if (vi in range(ii)) and (vj in range(jj)) and mask[vi,vj]:\n",
    "                    vij.append(np.ravel_multi_index((vi,vj),(ii,jj)))\n",
    "        ## here is point for making a different kernel\n",
    "        ## current is box\n",
    "        weight = 1/np.shape(vij)[0]\n",
    "#         if np.shape(vij)[0] > 1: print(weight)\n",
    "        for vv in vij:\n",
    "            ijl.append(ij)\n",
    "            vvl.append(vv)\n",
    "            ddl.append(weight)"
   ]
  },
  {
   "cell_type": "code",
   "execution_count": 42,
   "id": "smart-cabin",
   "metadata": {},
   "outputs": [
    {
     "data": {
      "text/plain": [
       "9302"
      ]
     },
     "execution_count": 42,
     "metadata": {},
     "output_type": "execute_result"
    }
   ],
   "source": [
    "len(ijl)"
   ]
  },
  {
   "cell_type": "code",
   "execution_count": 45,
   "id": "internal-horse",
   "metadata": {},
   "outputs": [],
   "source": [
    "# %timeit mat1 = sparse.coo_matrix((ddl, (ijl, vvl)))\n",
    "mat1 = sparse.coo_matrix((ddl, (ijl, vvl)))"
   ]
  },
  {
   "cell_type": "code",
   "execution_count": 46,
   "id": "coordinated-discrimination",
   "metadata": {},
   "outputs": [
    {
     "name": "stdout",
     "output_type": "stream",
     "text": [
      "108 µs ± 1.99 µs per loop (mean ± std. dev. of 7 runs, 10000 loops each)\n"
     ]
    }
   ],
   "source": [
    "\n",
    "%timeit matrix = mat1.tocsr()"
   ]
  },
  {
   "cell_type": "code",
   "execution_count": null,
   "id": "humanitarian-mozambique",
   "metadata": {},
   "outputs": [],
   "source": [
    "#### masking saves time proportional to no. of masked points"
   ]
  },
  {
   "cell_type": "code",
   "execution_count": 222,
   "id": "political-resolution",
   "metadata": {},
   "outputs": [
    {
     "name": "stdout",
     "output_type": "stream",
     "text": [
      "Loaded a grid: /Users/h/PREMELT/Budget/Budget_tool/grids/CICE_1deg_gsT.npz\n",
      "Loaded mask,  104  x  129  inflated by  0.0\n"
     ]
    }
   ],
   "source": [
    "m = ccrs.LambertAzimuthalEqualArea(central_latitude=90)\n",
    "G = gs.grid_set(m)\n",
    "# G.load_grid('/Users/h/PREMELT/Budget/Budget_tool/grids/Pathfinder_gs.npz')\n",
    "# G.load_mask('/Users/h/PREMELT/Budget/Budget_tool/grids/Pathfinder_gs_mask.npz')\n",
    "G.load_grid('/Users/h/PREMELT/Budget/Budget_tool/grids/CICE_1deg_gsT.npz')\n",
    "G.load_mask('/Users/h/PREMELT/Budget/Budget_tool/grids/CICE_1deg_gs_maskT.npz')"
   ]
  },
  {
   "cell_type": "code",
   "execution_count": 227,
   "id": "organized-general",
   "metadata": {},
   "outputs": [
    {
     "name": "stdout",
     "output_type": "stream",
     "text": [
      "Grid distances calculated:  54032.78806193819  x  54517.01141391502\n"
     ]
    },
    {
     "name": "stderr",
     "output_type": "stream",
     "text": [
      "/Users/h/Github/geo_data_group/grid_set.py:1193: RuntimeWarning: invalid value encountered in cos\n",
      "  C_lat=np.cos(lat2);\n",
      "/Users/h/Github/geo_data_group/grid_set.py:1194: RuntimeWarning: invalid value encountered in sin\n",
      "  S_lat=np.sin(lat2);\n",
      "/Users/h/Github/geo_data_group/grid_set.py:1195: RuntimeWarning: invalid value encountered in cos\n",
      "  C_lon=np.cos(lon2);\n",
      "/Users/h/Github/geo_data_group/grid_set.py:1196: RuntimeWarning: invalid value encountered in sin\n",
      "  S_lon=np.sin(lon2);\n"
     ]
    },
    {
     "name": "stdout",
     "output_type": "stream",
     "text": [
      "Angles calculated\n"
     ]
    }
   ],
   "source": [
    "G.gridinfo = False\n",
    "G.get_grid_info()"
   ]
  },
  {
   "cell_type": "code",
   "execution_count": 228,
   "id": "fallen-doctor",
   "metadata": {},
   "outputs": [],
   "source": [
    "G.save_grid_nc('/Users/h/PREMELT/CICE_analysis/CICE_1deg.nc')"
   ]
  },
  {
   "cell_type": "code",
   "execution_count": 203,
   "id": "mysterious-figure",
   "metadata": {},
   "outputs": [
    {
     "name": "stdout",
     "output_type": "stream",
     "text": [
      "Bulding vary smoother, av cell dist = [4.0, 4.3], [4.0, 4.3]\n",
      "Smooth martix, entries = 7645877, mean weights = 0.02\n"
     ]
    }
   ],
   "source": [
    "testsm1 = gs.geo_vary_smooth(G,100e3,verbos=True)"
   ]
  },
  {
   "cell_type": "code",
   "execution_count": 174,
   "id": "cognitive-insulin",
   "metadata": {},
   "outputs": [
    {
     "name": "stdout",
     "output_type": "stream",
     "text": [
      "Bulding vary smoother, av cell dist = [4.0, 4.3], [4.0, 4.3]\n",
      "Smooth martix, entries = 3480440, mean weights = 0.02\n"
     ]
    }
   ],
   "source": [
    "testsm2 = gs.geo_vary_smooth(G,100e3,mask=more_mask,verbos=True)"
   ]
  },
  {
   "cell_type": "code",
   "execution_count": 214,
   "id": "black-eclipse",
   "metadata": {},
   "outputs": [
    {
     "name": "stdout",
     "output_type": "stream",
     "text": [
      "Bulding vary smoother, av cell dist = [7.9, 8.5], [7.9, 8.5]\n",
      "Smooth martix, entries = 7314587, mean weights = 0.00\n"
     ]
    }
   ],
   "source": [
    "testsm3 = gs.geo_vary_smooth(G,200e3,mask=more_mask,verbos=True)"
   ]
  },
  {
   "cell_type": "code",
   "execution_count": 159,
   "id": "associate-content",
   "metadata": {},
   "outputs": [
    {
     "name": "stdout",
     "output_type": "stream",
     "text": [
      "Bulding vary smoother, av cell dist = [4.0, 4.3], [4.0, 4.3]\n",
      "Smooth martix, entries = 1079107, mean weights = 0.02\n"
     ]
    }
   ],
   "source": [
    "\n",
    "testsm3 = gs.geo_vary_smooth(G,100e3,mask=more_mask,verbos=True)"
   ]
  },
  {
   "cell_type": "code",
   "execution_count": 95,
   "id": "fifty-cabin",
   "metadata": {},
   "outputs": [],
   "source": [
    "G.get_grid_mask()"
   ]
  },
  {
   "cell_type": "code",
   "execution_count": 208,
   "id": "musical-hayes",
   "metadata": {},
   "outputs": [],
   "source": [
    "more_mask = np.isfinite(G.mask)"
   ]
  },
  {
   "cell_type": "code",
   "execution_count": 209,
   "id": "expected-binary",
   "metadata": {},
   "outputs": [],
   "source": [
    "more_mask[G.lats<50] = False"
   ]
  },
  {
   "cell_type": "code",
   "execution_count": 120,
   "id": "portable-helen",
   "metadata": {},
   "outputs": [
    {
     "data": {
      "text/plain": [
       "21859"
      ]
     },
     "execution_count": 120,
     "metadata": {},
     "output_type": "execute_result"
    }
   ],
   "source": [
    "np.sum(more_mask)"
   ]
  },
  {
   "cell_type": "code",
   "execution_count": 212,
   "id": "twenty-segment",
   "metadata": {},
   "outputs": [
    {
     "data": {
      "text/plain": [
       "<matplotlib.image.AxesImage at 0x7f8aa31da5f8>"
      ]
     },
     "execution_count": 212,
     "metadata": {},
     "output_type": "execute_result"
    },
    {
     "data": {
      "image/png": "[encoded data removed]",
      "text/plain": [
       "<Figure size 432x288 with 1 Axes>"
      ]
     },
     "metadata": {
      "needs_background": "light"
     },
     "output_type": "display_data"
    }
   ],
   "source": [
    "plt.imshow(testsm3.smooth(more_mask))"
   ]
  },
  {
   "cell_type": "code",
   "execution_count": 204,
   "id": "early-princeton",
   "metadata": {},
   "outputs": [
    {
     "name": "stdout",
     "output_type": "stream",
     "text": [
      "14.7 ms ± 49.9 µs per loop (mean ± std. dev. of 7 runs, 100 loops each)\n"
     ]
    }
   ],
   "source": [
    "%timeit testsm1.smooth(more_mask)"
   ]
  },
  {
   "cell_type": "code",
   "execution_count": 197,
   "id": "naked-context",
   "metadata": {},
   "outputs": [
    {
     "name": "stderr",
     "output_type": "stream",
     "text": [
      "/Users/h/Github/geo_data_group/grid_set.py:1580: RuntimeWarning: invalid value encountered in true_divide\n",
      "  narray = narray/dweight\n"
     ]
    },
    {
     "name": "stdout",
     "output_type": "stream",
     "text": [
      "8.11 ms ± 221 µs per loop (mean ± std. dev. of 7 runs, 100 loops each)\n"
     ]
    }
   ],
   "source": [
    "%timeit testsm2.smooth(more_mask)"
   ]
  },
  {
   "cell_type": "code",
   "execution_count": 196,
   "id": "reverse-anthropology",
   "metadata": {},
   "outputs": [
    {
     "name": "stderr",
     "output_type": "stream",
     "text": [
      "/Users/h/Github/geo_data_group/grid_set.py:1580: RuntimeWarning: invalid value encountered in true_divide\n",
      "  narray = narray/dweight\n"
     ]
    },
    {
     "name": "stdout",
     "output_type": "stream",
     "text": [
      "3.31 ms ± 42.7 µs per loop (mean ± std. dev. of 7 runs, 100 loops each)\n"
     ]
    }
   ],
   "source": [
    "%timeit testsm3.smooth(more_mask)"
   ]
  },
  {
   "cell_type": "code",
   "execution_count": 205,
   "id": "developing-building",
   "metadata": {},
   "outputs": [
    {
     "data": {
      "text/plain": [
       "(130321, 130321)"
      ]
     },
     "execution_count": 205,
     "metadata": {},
     "output_type": "execute_result"
    }
   ],
   "source": [
    "testsm2.Vsm2d.matrix.shape"
   ]
  },
  {
   "cell_type": "code",
   "execution_count": 143,
   "id": "impossible-parks",
   "metadata": {},
   "outputs": [],
   "source": [
    "def ravelit():\n",
    "    np.ravel_multi_index((range(13,16),range(13,16)),(m,n))"
   ]
  },
  {
   "cell_type": "code",
   "execution_count": 147,
   "id": "criminal-heart",
   "metadata": {},
   "outputs": [],
   "source": [
    "def ravelit2():\n",
    "    for i in  range(13,16):\n",
    "        np.ravel_multi_index((i,i),(m,n))"
   ]
  },
  {
   "cell_type": "code",
   "execution_count": 148,
   "id": "independent-bulgaria",
   "metadata": {},
   "outputs": [
    {
     "name": "stdout",
     "output_type": "stream",
     "text": [
      "16.9 ns ± 0.109 ns per loop (mean ± std. dev. of 7 runs, 100000000 loops each)\n"
     ]
    }
   ],
   "source": [
    "%timeit ravelit"
   ]
  },
  {
   "cell_type": "code",
   "execution_count": 149,
   "id": "numerous-depression",
   "metadata": {},
   "outputs": [
    {
     "name": "stdout",
     "output_type": "stream",
     "text": [
      "15.5 ns ± 0.022 ns per loop (mean ± std. dev. of 7 runs, 100000000 loops each)\n"
     ]
    }
   ],
   "source": [
    "%timeit ravelit2"
   ]
  },
  {
   "cell_type": "code",
   "execution_count": 141,
   "id": "auburn-mauritius",
   "metadata": {},
   "outputs": [
    {
     "ename": "TypeError",
     "evalue": "only int indices permitted",
     "output_type": "error",
     "traceback": [
      "\u001b[0;31m---------------------------------------------------------------------------\u001b[0m",
      "\u001b[0;31mTypeError\u001b[0m                                 Traceback (most recent call last)",
      "\u001b[0;32m<ipython-input-141-e2d854ee6283>\u001b[0m in \u001b[0;36m<module>\u001b[0;34m\u001b[0m\n\u001b[0;32m----> 1\u001b[0;31m \u001b[0mnp\u001b[0m\u001b[0;34m.\u001b[0m\u001b[0mravel_multi_index\u001b[0m\u001b[0;34m(\u001b[0m\u001b[0;34m(\u001b[0m\u001b[0mnp\u001b[0m\u001b[0;34m.\u001b[0m\u001b[0mndindex\u001b[0m\u001b[0;34m(\u001b[0m\u001b[0;36m1\u001b[0m\u001b[0;34m,\u001b[0m\u001b[0;36m2\u001b[0m\u001b[0;34m)\u001b[0m\u001b[0;34m,\u001b[0m\u001b[0mnp\u001b[0m\u001b[0;34m.\u001b[0m\u001b[0mndindex\u001b[0m\u001b[0;34m(\u001b[0m\u001b[0;36m1\u001b[0m\u001b[0;34m,\u001b[0m\u001b[0;36m2\u001b[0m\u001b[0;34m)\u001b[0m\u001b[0;34m)\u001b[0m\u001b[0;34m,\u001b[0m\u001b[0;34m(\u001b[0m\u001b[0mm\u001b[0m\u001b[0;34m,\u001b[0m\u001b[0mn\u001b[0m\u001b[0;34m)\u001b[0m\u001b[0;34m)\u001b[0m\u001b[0;34m\u001b[0m\u001b[0;34m\u001b[0m\u001b[0m\n\u001b[0m",
      "\u001b[0;32m<__array_function__ internals>\u001b[0m in \u001b[0;36mravel_multi_index\u001b[0;34m(*args, **kwargs)\u001b[0m\n",
      "\u001b[0;31mTypeError\u001b[0m: only int indices permitted"
     ]
    }
   ],
   "source": [
    "np.ravel_multi_index((np.ndindex(1,2),np.ndindex(1,2)),(m,n))"
   ]
  },
  {
   "cell_type": "code",
   "execution_count": 133,
   "id": "careful-spanking",
   "metadata": {},
   "outputs": [],
   "source": [
    "test_r = range(-2,6)"
   ]
  },
  {
   "cell_type": "code",
   "execution_count": 134,
   "id": "moved-vehicle",
   "metadata": {},
   "outputs": [
    {
     "data": {
      "text/plain": [
       "False"
      ]
     },
     "execution_count": 134,
     "metadata": {},
     "output_type": "execute_result"
    }
   ],
   "source": [
    "test_r in range(0,7)"
   ]
  },
  {
   "cell_type": "code",
   "execution_count": 150,
   "id": "cooperative-primary",
   "metadata": {},
   "outputs": [
    {
     "data": {
      "text/plain": [
       "0"
      ]
     },
     "execution_count": 150,
     "metadata": {},
     "output_type": "execute_result"
    }
   ],
   "source": [
    "max(0,-2)"
   ]
  },
  {
   "cell_type": "code",
   "execution_count": 138,
   "id": "experimental-anatomy",
   "metadata": {},
   "outputs": [
    {
     "data": {
      "text/plain": [
       "<numpy.ndindex at 0x7f8a9581ecf8>"
      ]
     },
     "execution_count": 138,
     "metadata": {},
     "output_type": "execute_result"
    }
   ],
   "source": [
    "np.ndindex(3,4)"
   ]
  },
  {
   "cell_type": "code",
   "execution_count": null,
   "id": "developing-attention",
   "metadata": {},
   "outputs": [],
   "source": []
  }
 ],
 "metadata": {
  "kernelspec": {
   "display_name": "Python 3",
   "language": "python",
   "name": "python3"
  },
  "language_info": {
   "codemirror_mode": {
    "name": "ipython",
    "version": 3
   },
   "file_extension": ".py",
   "mimetype": "text/x-python",
   "name": "python",
   "nbconvert_exporter": "python",
   "pygments_lexer": "ipython3",
   "version": "3.6.12"
  }
 },
 "nbformat": 4,
 "nbformat_minor": 5
}
