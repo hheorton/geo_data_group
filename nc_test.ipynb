{
 "cells": [
  {
   "cell_type": "code",
   "execution_count": 230,
   "metadata": {},
   "outputs": [
    {
     "data": {
      "text/plain": [
       "<module 'data_year' from '/Users/H/WAVES/geo_data_group/data_year.py'>"
      ]
     },
     "execution_count": 230,
     "metadata": {},
     "output_type": "execute_result"
    }
   ],
   "source": [
    "# data year/netcdf test\n",
    "\n",
    "\n",
    "import numpy as np\n",
    "import pandas as pd\n",
    "import datetime as dt\n",
    "import shutil\n",
    "import os\n",
    "import copy\n",
    "import imp\n",
    "from invoke import run\n",
    "from numba import jit\n",
    "from scipy import stats\n",
    "from dateutil.relativedelta import relativedelta\n",
    "from mpl_toolkits.basemap import Basemap\n",
    "\n",
    "import data_year as dy\n",
    "import grid_set as gs\n",
    "from netCDF4 import Dataset\n",
    "\n",
    "imp.reload(dy)"
   ]
  },
  {
   "cell_type": "code",
   "execution_count": 253,
   "metadata": {},
   "outputs": [],
   "source": [
    "d_in = np.ones([14,10,10])\n",
    "d_in[1,:,:] = 2.0\n",
    "dates = [dt.datetime(1999,12,1) + relativedelta(months=m) for m in range(14)]\n",
    "test_dy = dy.data_year(d_in,dates,12)"
   ]
  },
  {
   "cell_type": "code",
   "execution_count": 254,
   "metadata": {},
   "outputs": [],
   "source": [
    "test_dy.build_static_mask(np.ones([10,10],dtype=bool))\n",
    "test_dy.mask[:,4:6,4:6] = False"
   ]
  },
  {
   "cell_type": "code",
   "execution_count": 238,
   "metadata": {},
   "outputs": [],
   "source": [
    "test_ma = np.ma.array(test_dy.data)"
   ]
  },
  {
   "cell_type": "code",
   "execution_count": 61,
   "metadata": {},
   "outputs": [],
   "source": [
    "test_ma.mask = test_dy.mask==False"
   ]
  },
  {
   "cell_type": "code",
   "execution_count": 109,
   "metadata": {},
   "outputs": [],
   "source": [
    "NC_f = Dataset('nc_test.nc', 'w', format='NETCDF4')"
   ]
  },
  {
   "cell_type": "code",
   "execution_count": 110,
   "metadata": {},
   "outputs": [
    {
     "data": {
      "text/plain": [
       "<class 'netCDF4._netCDF4.Dimension'>: name = 'nyrs', size = 1"
      ]
     },
     "execution_count": 110,
     "metadata": {},
     "output_type": "execute_result"
    }
   ],
   "source": [
    "NC_f.createDimension('time', test_dy.n_t)\n",
    "NC_f.createDimension('x', test_dy.m)\n",
    "NC_f.createDimension('y', test_dy.n)\n",
    "NC_f.createDimension('periods', test_dy.periods)\n",
    "NC_f.createDimension('nyrs', test_dy.nyrs)"
   ]
  },
  {
   "cell_type": "code",
   "execution_count": 111,
   "metadata": {},
   "outputs": [],
   "source": [
    "data_name  = 'test_D'\n",
    "DY_data = NC_f.createVariable(data_name, 'f4', ('time','x','y'))\n",
    "DY_mask = NC_f.createVariable('mask', 'i1', ('time','x','y'))\n",
    "DY_time = NC_f.createVariable('time', 'f4', ('time',))\n",
    "DY_yrpd = NC_f.createVariable('dy_yrpd', 'i8', ('nyrs','periods'))\n",
    "DY_yrpd_mask = NC_f.createVariable('dy_yrpd_mask', 'i1', ('nyrs','periods'))\n",
    "        "
   ]
  },
  {
   "cell_type": "code",
   "execution_count": 112,
   "metadata": {},
   "outputs": [],
   "source": [
    "DY_data[:] = test_dy.data\n",
    "DY_mask[:] = test_dy.mask\n",
    "temp_time = [test_dy.dates[t].toordinal() for t in range(test_dy.n_t)]\n",
    "DY_time[:] = temp_time\n",
    "DY_yrpd[:] = test_dy.yrpd\n",
    "DY_yrpd_mask[:] = test_dy.yrpd.mask\n"
   ]
  },
  {
   "cell_type": "code",
   "execution_count": 84,
   "metadata": {},
   "outputs": [
    {
     "data": {
      "text/plain": [
       "True"
      ]
     },
     "execution_count": 84,
     "metadata": {},
     "output_type": "execute_result"
    }
   ],
   "source": [
    "DY_data.mask"
   ]
  },
  {
   "cell_type": "code",
   "execution_count": 113,
   "metadata": {},
   "outputs": [],
   "source": [
    "NC_f.close()"
   ]
  },
  {
   "cell_type": "code",
   "execution_count": 255,
   "metadata": {},
   "outputs": [
    {
     "data": {
      "text/plain": [
       "masked_array(\n",
       "  data=[[--, --, --, --, --, --, --, --, --, --, --, 0],\n",
       "        [1, 2, 3, 4, 5, 6, 7, 8, 9, 10, 11, 12],\n",
       "        [13, --, --, --, --, --, --, --, --, --, --, --]],\n",
       "  mask=[[ True,  True,  True,  True,  True,  True,  True,  True,  True,\n",
       "          True,  True, False],\n",
       "        [False, False, False, False, False, False, False, False, False,\n",
       "         False, False, False],\n",
       "        [False,  True,  True,  True,  True,  True,  True,  True,  True,\n",
       "          True,  True,  True]],\n",
       "  fill_value=999999)"
      ]
     },
     "execution_count": 255,
     "metadata": {},
     "output_type": "execute_result"
    }
   ],
   "source": [
    "test_dy.yrpd"
   ]
  },
  {
   "cell_type": "code",
   "execution_count": 301,
   "metadata": {},
   "outputs": [
    {
     "data": {
      "text/plain": [
       "(14, 10, 10)"
      ]
     },
     "execution_count": 301,
     "metadata": {},
     "output_type": "execute_result"
    }
   ],
   "source": [
    "mask,y0,yE,t0,tE = dy.get_range_mask(test_dy,False,[0,2],[13,13])\n",
    "np.shape(mask)"
   ]
  },
  {
   "cell_type": "code",
   "execution_count": 257,
   "metadata": {},
   "outputs": [
    {
     "data": {
      "text/plain": [
       "(0, 2, 2)"
      ]
     },
     "execution_count": 257,
     "metadata": {},
     "output_type": "execute_result"
    }
   ],
   "source": [
    "y0,yE,yE-y0"
   ]
  },
  {
   "cell_type": "code",
   "execution_count": 222,
   "metadata": {},
   "outputs": [
    {
     "data": {
      "text/plain": [
       "True"
      ]
     },
     "execution_count": 222,
     "metadata": {},
     "output_type": "execute_result"
    }
   ],
   "source": [
    "type(test_dy.mask)==np.ndarray"
   ]
  },
  {
   "cell_type": "code",
   "execution_count": 292,
   "metadata": {},
   "outputs": [
    {
     "data": {
      "text/plain": [
       "masked_array(data=[[1, 2, 3, 4, 5, 6, 7, 8, 9, 10, 11, 12]],\n",
       "             mask=[[False, False, False, False, False, False, False,\n",
       "                    False, False, False, False, False]],\n",
       "       fill_value=999999)"
      ]
     },
     "execution_count": 292,
     "metadata": {},
     "output_type": "execute_result"
    }
   ],
   "source": [
    "yrpd_cp = np.ma.empty([yE-y0+1,test_dy.periods],dtype = int)\n",
    "yrpd_cp[:,:] = test_dy.yrpd[y0:yE+1,:]\n",
    "yrpd_cp.mask[yrpd_cp>tE] = True\n",
    "yrpd_cp.mask[yrpd_cp<t0] = True\n",
    "# save the appropritate depending on the y0 etc\n",
    "# [t for t in yrpd_cp[y0:yE+1,:].compressed()]\n",
    "yrpd_cp"
   ]
  },
  {
   "cell_type": "code",
   "execution_count": 302,
   "metadata": {},
   "outputs": [
    {
     "data": {
      "text/plain": [
       "masked_array(data=[[0, --, --, --, --, --, --, --, --, --, --, --]],\n",
       "             mask=[[False,  True,  True,  True,  True,  True,  True,\n",
       "                     True,  True,  True,  True,  True]],\n",
       "       fill_value=999999)"
      ]
     },
     "execution_count": 302,
     "metadata": {},
     "output_type": "execute_result"
    }
   ],
   "source": [
    "np.min(yrpd_cp),t0\n",
    "\n",
    "# given the limits what is the new yrpd\n",
    "yrpd_cp = np.ma.empty([yE-y0+1,test_dy.periods],dtype = int)\n",
    "yrpd_cp[:,:] = test_dy.yrpd[y0:yE+1,:]\n",
    "yrpd_cp.mask[yrpd_cp>tE] = True\n",
    "yrpd_cp.mask[yrpd_cp<t0] = True\n",
    "# this finds minimum value\n",
    "tt0 = np.maximum(np.min(yrpd_cp),t0)\n",
    "ttE = np.max(yrpd_cp)\n",
    "# find empty rows\n",
    "iy = dates[tt0].year - dates[0].year\n",
    "ey = dates[-1].year - dates[ttE].year\n",
    "# cut them\n",
    "yrpd_cp[(iy>y0)*iy:yE+1-ey,:] - tt0\n",
    "# yE-(yE-iy),yE+1-ey"
   ]
  },
  {
   "cell_type": "code",
   "execution_count": 300,
   "metadata": {},
   "outputs": [
    {
     "data": {
      "text/plain": [
       "1"
      ]
     },
     "execution_count": 300,
     "metadata": {},
     "output_type": "execute_result"
    }
   ],
   "source": [
    "(iy>y0)*iy"
   ]
  },
  {
   "cell_type": "code",
   "execution_count": 235,
   "metadata": {},
   "outputs": [],
   "source": [
    "test_dy.save_nc('test_nc_auto.nc',time_set=[1,2])"
   ]
  },
  {
   "cell_type": "code",
   "execution_count": null,
   "metadata": {},
   "outputs": [],
   "source": []
  }
 ],
 "metadata": {
  "kernelspec": {
   "display_name": "Python 3",
   "language": "python",
   "name": "python3"
  },
  "language_info": {
   "codemirror_mode": {
    "name": "ipython",
    "version": 3
   },
   "file_extension": ".py",
   "mimetype": "text/x-python",
   "name": "python",
   "nbconvert_exporter": "python",
   "pygments_lexer": "ipython3",
   "version": "3.6.8"
  }
 },
 "nbformat": 4,
 "nbformat_minor": 2
}
