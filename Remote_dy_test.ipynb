{
 "cells": [
  {
   "cell_type": "code",
   "execution_count": 287,
   "metadata": {},
   "outputs": [
    {
     "data": {
      "text/plain": [
       "<module 'budget_inputs' from '/Users/H/PREMELT/Budget/PIOMAS/Michel_git/budget_inputs.py'>"
      ]
     },
     "execution_count": 287,
     "metadata": {},
     "output_type": "execute_result"
    }
   ],
   "source": [
    "# converts a remote bunch of data files into a data year\n",
    "import numpy as np\n",
    "import datetime as dt\n",
    "import copy\n",
    "from scipy import stats\n",
    "from dateutil.relativedelta import relativedelta\n",
    "from mpl_toolkits.basemap import Basemap\n",
    "import matplotlib.pyplot as plt\n",
    "from netCDF4 import Dataset\n",
    "from sys import path\n",
    "from imp import reload\n",
    "path.insert(0, '/Users/H/WAVES/geo_data_group/')\n",
    "import data_year as dy\n",
    "path.insert(0, '/Users/H/PREMELT/Budget/PIOMAS/Michel_git/')\n",
    "import budget_inputs as bi\n",
    "import remote_data_year as rdy\n",
    "reload(rdy)\n",
    "reload(dy)\n",
    "reload(bi)"
   ]
  },
  {
   "cell_type": "code",
   "execution_count": 12,
   "metadata": {},
   "outputs": [],
   "source": [
    "# path = '/Volumes/BU_extra/BUDGET/Pathfinderv4/'\n",
    "# P = bi.Pathfinder(path)\n",
    "path = '/Volumes/BU_extra/BUDGET/PIOMAS_data/'\n",
    "P = bi.PIOMAS(path)"
   ]
  },
  {
   "cell_type": "code",
   "execution_count": 117,
   "metadata": {},
   "outputs": [
    {
     "name": "stdout",
     "output_type": "stream",
     "text": [
      "PIOMAS Found 365 dates\n"
     ]
    }
   ],
   "source": [
    "ts = dt.datetime(2014,1,1)\n",
    "te = dt.datetime(2014,12,31)\n",
    "P.get_dates(ts,te)"
   ]
  },
  {
   "cell_type": "code",
   "execution_count": 85,
   "metadata": {},
   "outputs": [],
   "source": [
    "class rdy_input():\n",
    "    def __init__(self,Dobj):\n",
    "        ###\n",
    "        self.Dobj = Dobj\n",
    "        \n",
    "    def __getitem__(self,indx):\n",
    "        t_p,m,n = indx\n",
    "        # can we convert an a:b version of t_p\n",
    "        # to a list of dates??\n",
    "        d = self.Dobj.dates[t_p]\n",
    "        if type(d) == dt.datetime:\n",
    "            d= [d]\n",
    "        ## call some sort of data collection on d \n",
    "        array = self.Dobj.get_data(d)\n",
    "        return array[:,m,n]\n",
    "    def __array__(self):\n",
    "        return "
   ]
  },
  {
   "cell_type": "code",
   "execution_count": 121,
   "metadata": {},
   "outputs": [],
   "source": [
    "Dobj = P"
   ]
  },
  {
   "cell_type": "code",
   "execution_count": 166,
   "metadata": {},
   "outputs": [],
   "source": [
    "Dobj.get_data = Dobj.get_hi"
   ]
  },
  {
   "cell_type": "code",
   "execution_count": 186,
   "metadata": {},
   "outputs": [],
   "source": [
    "Prdy = rdy.remote_data_year(Dobj,366)"
   ]
  },
  {
   "cell_type": "code",
   "execution_count": 170,
   "metadata": {},
   "outputs": [
    {
     "data": {
      "text/plain": [
       "(365, 360, 120)"
      ]
     },
     "execution_count": 170,
     "metadata": {},
     "output_type": "execute_result"
    }
   ],
   "source": [
    "np.shape(Prdy.mask)"
   ]
  },
  {
   "cell_type": "code",
   "execution_count": 194,
   "metadata": {},
   "outputs": [],
   "source": [
    "periods = Prdy.get_periods(ts,te)\n",
    "# periods = [1,2,3]\n",
    "Prdy.mask = Prdy[:,:,:] > 0.15\n",
    "# Prdy.mask = False\n",
    "test = Prdy.clim_map(periods,mask=True)"
   ]
  },
  {
   "cell_type": "code",
   "execution_count": 195,
   "metadata": {},
   "outputs": [
    {
     "data": {
      "image/png": "[encoded data removed]",
      "text/plain": [
       "<Figure size 432x288 with 1 Axes>"
      ]
     },
     "metadata": {},
     "output_type": "display_data"
    }
   ],
   "source": [
    "plt.imshow(test)\n",
    "plt.show()"
   ]
  },
  {
   "cell_type": "code",
   "execution_count": 66,
   "metadata": {},
   "outputs": [],
   "source": [
    "class rvdy_input():\n",
    "    def __init__(self,Dobj):\n",
    "        ###\n",
    "        self.Dobj = Dobj\n",
    "        \n",
    "    def __getitem__(self,indx):\n",
    "        t_p,m,n = indx\n",
    "        # can we convert an a:b version of t_p\n",
    "        # to a list of dates??\n",
    "        d = self.Dobj.dates[t_p]\n",
    "        if type(d) == dt.datetime:\n",
    "            d= [d]\n",
    "        ## call some sort of data collection on d \n",
    "        xarray,yarray = self.Dobj.get_vector(d)\n",
    "        return xarray[:,m,n], yarray[:,m,n]\n",
    "    \n",
    "class rvdy_xinput(rvdy_input):\n",
    "    def __init__(self,Dobj):\n",
    "        ###\n",
    "        super().__init__(Dobj)\n",
    "        \n",
    "    def __getitem__(self,indx):\n",
    "        t_p,m,n = indx\n",
    "        x,y = super().__getitem__(indx)\n",
    "        return x\n",
    "    \n",
    "class rvdy_yinput(rvdy_input):\n",
    "    def __init__(self,Dobj):\n",
    "        ###\n",
    "        super().__init__(Dobj)\n",
    "        \n",
    "    def __getitem__(self,indx):\n",
    "        t_p,m,n = indx\n",
    "        x,y = super().__getitem__(indx)\n",
    "        return y "
   ]
  },
  {
   "cell_type": "code",
   "execution_count": 191,
   "metadata": {},
   "outputs": [],
   "source": [
    "Dobj.get_vector = Dobj.get_vels"
   ]
  },
  {
   "cell_type": "code",
   "execution_count": 204,
   "metadata": {},
   "outputs": [],
   "source": [
    "Prvdy = rdy.remote_vec_data_year(Dobj,365)"
   ]
  },
  {
   "cell_type": "code",
   "execution_count": 205,
   "metadata": {},
   "outputs": [
    {
     "data": {
      "text/plain": [
       "<remote_data_year.rvdy_xinput at 0x11a5dbb00>"
      ]
     },
     "execution_count": 205,
     "metadata": {},
     "output_type": "execute_result"
    }
   ],
   "source": [
    "Prvdy.x"
   ]
  },
  {
   "cell_type": "code",
   "execution_count": 206,
   "metadata": {},
   "outputs": [],
   "source": [
    "test = Prvdy.clim_map(periods,magnitude=True)"
   ]
  },
  {
   "cell_type": "code",
   "execution_count": 207,
   "metadata": {},
   "outputs": [
    {
     "data": {
      "image/png": "[encoded data removed]",
      "text/plain": [
       "<Figure size 432x288 with 1 Axes>"
      ]
     },
     "metadata": {},
     "output_type": "display_data"
    }
   ],
   "source": [
    "plt.imshow(test)\n",
    "plt.show()"
   ]
  },
  {
   "cell_type": "code",
   "execution_count": 209,
   "metadata": {},
   "outputs": [],
   "source": [
    "rvdyx = rdy.rvdy_xinput(Dobj)\n",
    "rvdyy = rdy.rvdy_yinput(Dobj)"
   ]
  },
  {
   "cell_type": "code",
   "execution_count": 229,
   "metadata": {},
   "outputs": [],
   "source": [
    "path = '/Volumes/BU_extra/BUDGET/Pathfinderv4/'\n",
    "Pf = bi.Pathfinder(path)\n",
    "# path = '/Volumes/BU_extra/BUDGET/PIOMAS_data/'\n",
    "# P = bi.PIOMAS(path)"
   ]
  },
  {
   "cell_type": "code",
   "execution_count": 302,
   "metadata": {},
   "outputs": [
    {
     "name": "stdout",
     "output_type": "stream",
     "text": [
      "Pathfinder Found 366 dates\n"
     ]
    }
   ],
   "source": [
    "ts = dt.datetime(2012,1,1)\n",
    "te = dt.datetime(2012,12,31)\n",
    "Pf.get_dates(ts,te)"
   ]
  },
  {
   "cell_type": "code",
   "execution_count": 303,
   "metadata": {},
   "outputs": [],
   "source": [
    "Pf.get_vector = Pf.get_vels"
   ]
  },
  {
   "cell_type": "code",
   "execution_count": 304,
   "metadata": {},
   "outputs": [
    {
     "name": "stdout",
     "output_type": "stream",
     "text": [
      "loading new year of data: 2012\n"
     ]
    }
   ],
   "source": [
    "Pfvdy = rdy.remote_vec_data_year(Pf,periods = 366)"
   ]
  },
  {
   "cell_type": "code",
   "execution_count": 324,
   "metadata": {},
   "outputs": [
    {
     "data": {
      "text/plain": [
       "(array([ 0,  1,  2,  3,  4,  5,  6,  7,  8,  9, 10, 11, 12, 13, 14, 15, 16,\n",
       "        17, 18, 19, 20, 21, 22, 23, 24, 25, 26, 27, 28, 29, 30]),\n",
       " datetime.datetime(2012, 1, 31, 0, 0))"
      ]
     },
     "execution_count": 324,
     "metadata": {},
     "output_type": "execute_result"
    }
   ],
   "source": [
    "y0 = 2012\n",
    "m =0\n",
    "tps = dt.datetime(y0,m+1,1)\n",
    "tpe = tps + relativedelta(months =1, days=-1)\n",
    "periods = Pfvdy.get_periods(tps,tpe)\n",
    "periods,tpe"
   ]
  },
  {
   "cell_type": "code",
   "execution_count": 325,
   "metadata": {},
   "outputs": [
    {
     "data": {
      "text/plain": [
       "datetime.datetime(2012, 1, 1, 0, 0)"
      ]
     },
     "execution_count": 325,
     "metadata": {},
     "output_type": "execute_result"
    }
   ],
   "source": [
    "Pfvdy.dates[0]"
   ]
  },
  {
   "cell_type": "code",
   "execution_count": 305,
   "metadata": {},
   "outputs": [
    {
     "name": "stdout",
     "output_type": "stream",
     "text": [
      "year_set inconistent with data, ignoring it\n"
     ]
    },
    {
     "name": "stderr",
     "output_type": "stream",
     "text": [
      "/Users/H/WAVES/geo_data_group/data_year.py:950: RuntimeWarning: Mean of empty slice\n",
      "  axis = 0)\n"
     ]
    }
   ],
   "source": [
    "periods = [34,35,56]\n",
    "# when working on remote data - best to only map one year at a time\n",
    "# otherwise super super slow and it loads/reloads too much data\n",
    "test = Pfvdy.clim_map(periods,year_set=[1,1],magnitude=True)"
   ]
  },
  {
   "cell_type": "code",
   "execution_count": 306,
   "metadata": {},
   "outputs": [
    {
     "data": {
      "image/png": "[encoded data removed]",
      "text/plain": [
       "<Figure size 432x288 with 2 Axes>"
      ]
     },
     "metadata": {},
     "output_type": "display_data"
    }
   ],
   "source": [
    "plt.imshow(test)\n",
    "plt.colorbar()\n",
    "plt.show()"
   ]
  },
  {
   "cell_type": "code",
   "execution_count": 181,
   "metadata": {},
   "outputs": [
    {
     "data": {
      "text/plain": [
       "(1, 360, 120)"
      ]
     },
     "execution_count": 181,
     "metadata": {},
     "output_type": "execute_result"
    }
   ],
   "source": [
    "# test = rdyi[3:7,100:110,100:110]\n",
    "test = np.nanmean(rdyi[300:310,:,:],axis=(1,2))\n",
    "test = np.nanmean([rdyi[i] for i in [1,2,3]],axis=0)\n",
    "np.shape(test)"
   ]
  },
  {
   "cell_type": "code",
   "execution_count": 75,
   "metadata": {},
   "outputs": [
    {
     "data": {
      "text/plain": [
       "datetime.datetime(2014, 1, 4, 0, 0)"
      ]
     },
     "execution_count": 75,
     "metadata": {},
     "output_type": "execute_result"
    }
   ],
   "source": [
    "Dobj.dates[3]"
   ]
  },
  {
   "cell_type": "code",
   "execution_count": 183,
   "metadata": {},
   "outputs": [
    {
     "data": {
      "text/plain": [
       "(1, 360, 120)"
      ]
     },
     "execution_count": 183,
     "metadata": {},
     "output_type": "execute_result"
    }
   ],
   "source": [
    "np.shape(rdyi[1])"
   ]
  },
  {
   "cell_type": "code",
   "execution_count": 98,
   "metadata": {},
   "outputs": [
    {
     "data": {
      "text/plain": [
       "(1, 2, 3)"
      ]
     },
     "execution_count": 98,
     "metadata": {},
     "output_type": "execute_result"
    }
   ],
   "source": [
    "testd = np.empty([1,2,3])\n",
    "testd.shape"
   ]
  },
  {
   "cell_type": "code",
   "execution_count": null,
   "metadata": {},
   "outputs": [],
   "source": []
  }
 ],
 "metadata": {
  "kernelspec": {
   "display_name": "Python 3",
   "language": "python",
   "name": "python3"
  },
  "language_info": {
   "codemirror_mode": {
    "name": "ipython",
    "version": 3
   },
   "file_extension": ".py",
   "mimetype": "text/x-python",
   "name": "python",
   "nbconvert_exporter": "python",
   "pygments_lexer": "ipython3",
   "version": "3.6.8"
  }
 },
 "nbformat": 4,
 "nbformat_minor": 2
}
