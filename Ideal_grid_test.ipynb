{
 "cells": [
  {
   "cell_type": "code",
   "execution_count": null,
   "metadata": {},
   "outputs": [],
   "source": [
    "## imports"
   ]
  },
  {
   "cell_type": "code",
   "execution_count": null,
   "metadata": {},
   "outputs": [],
   "source": [
    "### overview map\n",
    "### want to be able to look at it and show lon lats\n",
    "### then zoom and give the same no. of lon lat lines.\n",
    "### also want plots points so i can set the poitns I care about\n"
   ]
  },
  {
   "cell_type": "code",
   "execution_count": null,
   "metadata": {},
   "outputs": [],
   "source": [
    "### smaller projection then 2x length one with box inside"
   ]
  },
  {
   "cell_type": "code",
   "execution_count": null,
   "metadata": {},
   "outputs": [],
   "source": [
    "### CICE_square box\n",
    "msq = Basemap(projection='stere', \n",
    "#              llcrnrlon=-110,llcrnrlat=79,height = 13e6,lon_0 = 40,lat_0 = 90)\n",
    "             llcrnrlon=-110,llcrnrlat=77,urcrnrlon=100,urcrnrlat=82,lon_0 = -50,lat_0 = 90)\n"
   ]
  }
 ],
 "metadata": {
  "kernelspec": {
   "display_name": "Python 3",
   "language": "python",
   "name": "python3"
  },
  "language_info": {
   "codemirror_mode": {
    "name": "ipython",
    "version": 3
   },
   "file_extension": ".py",
   "mimetype": "text/x-python",
   "name": "python",
   "nbconvert_exporter": "python",
   "pygments_lexer": "ipython3",
   "version": "3.6.8"
  }
 },
 "nbformat": 4,
 "nbformat_minor": 2
}
